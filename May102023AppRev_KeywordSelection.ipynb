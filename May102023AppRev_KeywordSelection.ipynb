{
  "nbformat": 4,
  "nbformat_minor": 0,
  "metadata": {
    "colab": {
      "provenance": [],
      "toc_visible": true,
      "authorship_tag": "ABX9TyOp4EK6k1WZxg1+Hee3N1FJ",
      "include_colab_link": true
    },
    "kernelspec": {
      "name": "python3",
      "display_name": "Python 3"
    },
    "language_info": {
      "name": "python"
    }
  },
  "cells": [
    {
      "cell_type": "markdown",
      "metadata": {
        "id": "view-in-github",
        "colab_type": "text"
      },
      "source": [
        "<a href=\"https://colab.research.google.com/github/hemantam1/WebScraping/blob/main/May102023AppRev_KeywordSelection.ipynb\" target=\"_parent\"><img src=\"https://colab.research.google.com/assets/colab-badge.svg\" alt=\"Open In Colab\"/></a>"
      ]
    },
    {
      "cell_type": "code",
      "execution_count": null,
      "metadata": {
        "colab": {
          "base_uri": "https://localhost:8080/"
        },
        "id": "Ig0ZkuwRYCzV",
        "outputId": "d5e20a94-683b-4dd0-d2ec-66341989fa50"
      },
      "outputs": [
        {
          "output_type": "stream",
          "name": "stdout",
          "text": [
            "Looking in indexes: https://pypi.org/simple, https://us-python.pkg.dev/colab-wheels/public/simple/\n",
            "Requirement already satisfied: google_play_scraper in /usr/local/lib/python3.10/dist-packages (1.2.4)\n"
          ]
        }
      ],
      "source": [
        "!pip install google_play_scraper"
      ]
    },
    {
      "cell_type": "code",
      "source": [
        "from google_play_scraper import app\n",
        "import pandas as pd\n",
        "import numpy as np\n",
        "# US Market\n",
        "\n",
        "from google_play_scraper import Sort, reviews_all\n",
        "\n",
        "\n",
        "us_reviews = reviews_all(\n",
        "    #'nabilsoft.com.learnwebdevelopment', #Education\n",
        "    #'com.alibaba.intl.android.apps.poseidon', #shopping\n",
        "    #'com.chic.point', #shopping\n",
        "    #'br.com.ilog.konviva.mobile.v1.eudora',\n",
        "    #'br.com.ilog.konviva.mobile.v1.oboticario',\n",
        "    #'com.nabilsoft.sujet_bem',\n",
        "    'xyz.ai.gorilla',\n",
        "    #'com.atq.quranemajeedapp.org.tsq',\n",
        "    sleep_milliseconds=0,  # defaults to 0\n",
        "    lang='en',  # defaults to 'en'\n",
        "    country='kw',  # defaults to 'us'\n",
        "    sort=Sort.NEWEST,  # defaults to Sort.MOST_RELEVANT\n",
        ")\n",
        "\n",
        "df_autoveh = pd.DataFrame(np.array(us_reviews), columns=['review'])  # Concatenated list (list of list)\n",
        "df_autoveh = df_autoveh.join(pd.DataFrame(df_autoveh.pop('review').tolist()))  # to dataframe\n",
        "print(type(us_reviews))\n",
        "df_autoveh.head()\n"
      ],
      "metadata": {
        "colab": {
          "base_uri": "https://localhost:8080/",
          "height": 66
        },
        "id": "ukJN3TSQYP0Y",
        "outputId": "b919f117-3bba-40b5-e996-9c5dc0383017"
      },
      "execution_count": null,
      "outputs": [
        {
          "output_type": "stream",
          "name": "stdout",
          "text": [
            "<class 'list'>\n"
          ]
        },
        {
          "output_type": "execute_result",
          "data": {
            "text/plain": [
              "Empty DataFrame\n",
              "Columns: []\n",
              "Index: []"
            ],
            "text/html": [
              "\n",
              "  <div id=\"df-d3bb48dd-3bde-4cc5-9762-bd1b629ea8ee\">\n",
              "    <div class=\"colab-df-container\">\n",
              "      <div>\n",
              "<style scoped>\n",
              "    .dataframe tbody tr th:only-of-type {\n",
              "        vertical-align: middle;\n",
              "    }\n",
              "\n",
              "    .dataframe tbody tr th {\n",
              "        vertical-align: top;\n",
              "    }\n",
              "\n",
              "    .dataframe thead th {\n",
              "        text-align: right;\n",
              "    }\n",
              "</style>\n",
              "<table border=\"1\" class=\"dataframe\">\n",
              "  <thead>\n",
              "    <tr style=\"text-align: right;\">\n",
              "      <th></th>\n",
              "    </tr>\n",
              "  </thead>\n",
              "  <tbody>\n",
              "  </tbody>\n",
              "</table>\n",
              "</div>\n",
              "      <button class=\"colab-df-convert\" onclick=\"convertToInteractive('df-d3bb48dd-3bde-4cc5-9762-bd1b629ea8ee')\"\n",
              "              title=\"Convert this dataframe to an interactive table.\"\n",
              "              style=\"display:none;\">\n",
              "        \n",
              "  <svg xmlns=\"http://www.w3.org/2000/svg\" height=\"24px\"viewBox=\"0 0 24 24\"\n",
              "       width=\"24px\">\n",
              "    <path d=\"M0 0h24v24H0V0z\" fill=\"none\"/>\n",
              "    <path d=\"M18.56 5.44l.94 2.06.94-2.06 2.06-.94-2.06-.94-.94-2.06-.94 2.06-2.06.94zm-11 1L8.5 8.5l.94-2.06 2.06-.94-2.06-.94L8.5 2.5l-.94 2.06-2.06.94zm10 10l.94 2.06.94-2.06 2.06-.94-2.06-.94-.94-2.06-.94 2.06-2.06.94z\"/><path d=\"M17.41 7.96l-1.37-1.37c-.4-.4-.92-.59-1.43-.59-.52 0-1.04.2-1.43.59L10.3 9.45l-7.72 7.72c-.78.78-.78 2.05 0 2.83L4 21.41c.39.39.9.59 1.41.59.51 0 1.02-.2 1.41-.59l7.78-7.78 2.81-2.81c.8-.78.8-2.07 0-2.86zM5.41 20L4 18.59l7.72-7.72 1.47 1.35L5.41 20z\"/>\n",
              "  </svg>\n",
              "      </button>\n",
              "      \n",
              "  <style>\n",
              "    .colab-df-container {\n",
              "      display:flex;\n",
              "      flex-wrap:wrap;\n",
              "      gap: 12px;\n",
              "    }\n",
              "\n",
              "    .colab-df-convert {\n",
              "      background-color: #E8F0FE;\n",
              "      border: none;\n",
              "      border-radius: 50%;\n",
              "      cursor: pointer;\n",
              "      display: none;\n",
              "      fill: #1967D2;\n",
              "      height: 32px;\n",
              "      padding: 0 0 0 0;\n",
              "      width: 32px;\n",
              "    }\n",
              "\n",
              "    .colab-df-convert:hover {\n",
              "      background-color: #E2EBFA;\n",
              "      box-shadow: 0px 1px 2px rgba(60, 64, 67, 0.3), 0px 1px 3px 1px rgba(60, 64, 67, 0.15);\n",
              "      fill: #174EA6;\n",
              "    }\n",
              "\n",
              "    [theme=dark] .colab-df-convert {\n",
              "      background-color: #3B4455;\n",
              "      fill: #D2E3FC;\n",
              "    }\n",
              "\n",
              "    [theme=dark] .colab-df-convert:hover {\n",
              "      background-color: #434B5C;\n",
              "      box-shadow: 0px 1px 3px 1px rgba(0, 0, 0, 0.15);\n",
              "      filter: drop-shadow(0px 1px 2px rgba(0, 0, 0, 0.3));\n",
              "      fill: #FFFFFF;\n",
              "    }\n",
              "  </style>\n",
              "\n",
              "      <script>\n",
              "        const buttonEl =\n",
              "          document.querySelector('#df-d3bb48dd-3bde-4cc5-9762-bd1b629ea8ee button.colab-df-convert');\n",
              "        buttonEl.style.display =\n",
              "          google.colab.kernel.accessAllowed ? 'block' : 'none';\n",
              "\n",
              "        async function convertToInteractive(key) {\n",
              "          const element = document.querySelector('#df-d3bb48dd-3bde-4cc5-9762-bd1b629ea8ee');\n",
              "          const dataTable =\n",
              "            await google.colab.kernel.invokeFunction('convertToInteractive',\n",
              "                                                     [key], {});\n",
              "          if (!dataTable) return;\n",
              "\n",
              "          const docLinkHtml = 'Like what you see? Visit the ' +\n",
              "            '<a target=\"_blank\" href=https://colab.research.google.com/notebooks/data_table.ipynb>data table notebook</a>'\n",
              "            + ' to learn more about interactive tables.';\n",
              "          element.innerHTML = '';\n",
              "          dataTable['output_type'] = 'display_data';\n",
              "          await google.colab.output.renderOutput(dataTable, element);\n",
              "          const docLink = document.createElement('div');\n",
              "          docLink.innerHTML = docLinkHtml;\n",
              "          element.appendChild(docLink);\n",
              "        }\n",
              "      </script>\n",
              "    </div>\n",
              "  </div>\n",
              "  "
            ]
          },
          "metadata": {},
          "execution_count": 13
        }
      ]
    },
    {
      "cell_type": "code",
      "source": [
        "rev_list1 = df_autoveh['content'].tolist()\n",
        "rev_list = rev_list1[0:100]\n",
        "print(rev_list)"
      ],
      "metadata": {
        "colab": {
          "base_uri": "https://localhost:8080/"
        },
        "id": "u2AxkXOgbC-W",
        "outputId": "d4647a82-7b1e-4542-cc69-5976c4a4646b"
      },
      "execution_count": null,
      "outputs": [
        {
          "output_type": "stream",
          "name": "stdout",
          "text": [
            "['A Great work indeed. would love to contribute also. jazakallah', 'ما شاء اللہ اچھی ایپ ہے۔ اس میں ایک ٹائپنگ مسٹیک ہے۔ سورۃ الاعراف آیت 46 بسیمھم کو بسیفھم لکھا ہے۔ اسکو درست کریں پلیز', 'Good app, masha allah. I was just wondering if, apart from quran recitation and translation, how nice it would have been if we can also have the tafseer audio as well.', 'Gud for tafsir but not gud for reading becuz it does not help in pronouciation in english transliteration.', 'Its a very good app. I suggest eveyone to download...better thing that its add free app.,The translation of Quran in Urdu in very simple language easy to understand.. Thanks Parvez Bhai', \"Ma Sha Allah it's too good and helpful app\", 'Brilliant and Good Job! May Allah accept your efforts...!!!', 'Mashallah.. so easy to use and beneficial app. The actual content is wonderful for everyone who wants to learn Quran with meanings.', 'گڈ', 'This app is need of the day', 'ماشاءاللہ بہت ہی عمدہ ایپ ہے۔بہت ہی مفید۔', 'I was searching like this app... This is the best app..', 'Para 29 surah AlQalam Ayah8 فلا تطع المكذ بين Pronunciation mistake', '👑👑👑👑👑👑👑👑👑👑🎓🎓🎓🎓🎓🎓🎓🎓🎓🎓🎓🎓', 'Allah pak ap ko is kam ki jaza de.... But is app ma kisi kisi jagha per galtia ha.... Choti choti jesy AL Noor ka name An Noor ha.... Mtlb jo K human mistakes ha.... Or is tarh akser muqam per kuch words ka meaning galat likha huwa ha typing mistake ki wajah se.... To ap kindly is chiz ko review ker k correct ker de... Baki Maa Sha Allah yeh bht easy to use App ha kahi b ap easily Quran perh sakty ha is ka mutaliya ker sakty ha. JazakAllah for making this Quran App.', 'True hadse', 'Very nice app so much informative', 'سورت النور ایات نمر 37,38 کا ترجمہ غلط ہے اس کو ٹھیک کریں۔', 'Very much Awesome app May Almighty accept your initiatives', 'ماشاء اللہ بہت زبردست ایپ ہے اگر اس میں اسلام ون کی طرح تمام کتب احادیث بھی ایڈ کر دی جائیں لوگوں کے لئے بہت مفید ثابت ہو گی۔ جزاک اللہ خیر واحسن الجزاء', 'Very good app', 'Very good app', 'السلام وعلیکم لفظ ب لفظ ترجمہ کو شیئر کرنے کی آپشن ہے تو گائیڈ کر دیں شکریہ', 'V good aap', 'Audio nahi chaltaa hai', 'MashaAllah MashaAllah ♥️ one of the best App. Good effort.', 'جزاک اللہ خیرا', 'Good Tafseer. and works perfectly in all of cell phones', 'Best application', 'JazakAllah khair.... Bht he acha app hai', \"Mashallah subhanallah beautiful Qur'an Pak\", 'Excellent in every respect. Thanks. May Allah bless the whole team!', 'Its a really good app and is really helpful', 'Excellent 👌', 'Allah jazaye kher ata farmaye', 'Nice', 'Really very good App. Need one option to copy text from App. As in share mode tafseer is greater then whatsapp limit. We cannot share tafseer from App. So There should be copy option so that we may share in parts.', 'Very important information learn in this appication. Every Muslim use the this appication and learn Islamic information Thanks Tafseer Taiseer ul quran for this hardworking', 'AssalamuAlaikum Usman Parvez Sahib. Excellent. May Allah bless you all! Kindly provide revelation order in all your Quran apps. Also provide Asbab Nazul wherever it is available/known. Thanks in advance.', 'السلام علیکم ماشاءاللّٰه بہت ہی عمدہ اور بہترین طرز پر لکھی گئ نہایت أسان فہم تفسیر۔۔ اللہ تعالی تمام معاونین کو جزاۓ خیر عطا فرماۓ۔ محمد اختر جان میلسی', 'I think this is the best app Tarjama is so accurate Tajweed is so good I am so happy to install this app..allhamdullilah', 'Mashaallah, very useful app', 'Search is not working. Please rectify', \"I love it... It's so easy to read Quran majeed......\", 'Very good app for Quran learning', 'very nice aap (jazak allha ho khairan kasira)', 'Bohat achi or aisan feham tafseer h', 'Best in life', 'یہ فیچر ضرور ڈالیں   السلام علیکم آپ کی ایپ بہت اچھی ہے لیکن اگر یہ فیچر مل جائے تو یہ دنیا کی سب سے بہترین ایپلی کیشن بن جائے گی۔  جب ہم مشکل الفاظ  کا انتخاب کر لیں۔  تو صرف وہی آیات نظر آئیں جن  میں سے مشکل الفاظ منتخب کیے گئے ہیں  اور اس کے لئے ایک علیحدہ TAB  کا اضافہ کر دیا جائے۔  اس طرح مشکل آیات کی ایک سمری بن جائے گی اور ان کو  یاد کرنا انتہائی آسان ہو جائے گا۔', 'I totally got a knowledge about Islam from this app & I really appreciated this man who invented this app & give us the knowledge about Islam...', 'so many mistakes in Translation Writing. Wonder how many would be in Arabic :(', 'ماشاءاللہ بہت ہی اچھا کام ہے', 'Very detailed tafseer and explained..in asan urdu', 'Good app', 'Ma Sha Allah. Very helpful app to read and understand Quran e Karim. May Allah shower his all blessing upon Mufassar e Quran.', 'Surah anbiyah ayat 25 and 29 mein ke and ko ke mistakes Hein plz correct these otherwise weak Urdu walon ko masla hota hai understand krny mein rest of perfect mashallah', 'There is no tafseer audio when played. English translation is also not available.', \"Allah Ta'ala Apko Salamat rakhen Ameen Summa Ameen\", 'Very very nice quran app. I am very impressed with this Quran.', 'good to read and translate', 'Very informative and easy to use app', 'Assalam o Alaikum wa rehmatullah wa barakatuh. Brother! I do benefit from youf apps alot since you have started this work I pray for your excellence in every thing of this life and that of hereafter My ond request; if you may please include this book in your work, will definitely help so many of us. Mutaradifatul Quran by Abdurrehman Kilani. مترادفات القران مولف عبدالرحمٰن کیلانی', 'No English language I need English and Hindi language', 'I really love this app... God bless you always ❤....m so glad to use this app... 🌹', 'السلام علیکم ورحمتہ اللہ آپ کی یہ ایپ ماشاءاللہ بہت اچھی ہے اس ایپ کے ترجمہ میں غیر معمولی طور پر غلطیاں ہیں وہ ساتھ ساتھ درست ہوتی رہیں تو اچھا ہے سورہ الانبیا کی آیات نمبر76کےترجمہ میں گھر کی جگہ لفظ (ساتھ) آ جاتا تو بہتر تھا شکریہ سورہ الحج آیت 17 آللہ شاہد ہے', \"This is soo good..can't express In words that how much it is useful for me mean anywhere anytime without getting attention of people you can read the verses and can connect yourself to Allah and can satisfy your soul♥️\", 'اللہ تعالی عبدالرحمن کیلانی کے درجات بلند فرمائے بڑی اچھی تفسیر لکھی ہے انھوں نے', 'MA SHA ALLAH bht achi aap hai.', \"Very good program. Please check that why is search Qur'an is failed on the Arabic word كواعب but is successful if character ك is removed from كواعب. Thanks and جزاك الله.\", 'Great application', 'The great app to get in touch with Quran', 'Very great app', 'Excellent Masha Allah', 'Very good app masha Allah. Could you please add one more (option to share word by word meaning) option where we select the ayat and share it. Very good app masha Allah. Could you please add one more (option to share word by word meaning) option where we select the ayat and share it. And could you do taiseer ul Quran in English language please. This will benefit the English speaking muslims in sha Allah. Jazak Allah khairan Barak Allah fikum.', 'Excellent translation and narration.', 'Jazak Allah khair.... A complete application', 'No tafseer audio???', 'Assalamualaikum, this Beutiful app is great. With urdu translation', 'Ma Sha Allah Nice Work. Allah give you award InSha Allah. 🌹😍🌹😍🌹😍🌹😍🌹😍🌹', 'Best ever', 'Really like it, JazakAllah khair.', 'بہترین تفسیر احادیث کے ساتھ', 'Very good I recommend it to my other relatives and friends', 'MA sha Allah so much wonderful app I love so much this app❤', 'Mashaa Allah behtareen app , I loved it easiest to understand ❤👍', 'Gon through repeatedly easy to understand', 'Jazaka Allah hu khair', 'MashAllah bestest easiest app.very nice app..I loved it.jazak Allah khair for making app which is so easy to understand read n listen...5*****', 'Really great', 'Please correct the wording in urdu translation for sura Noor. Its written soot not sorat.', 'Great Work. Jazak Allah', 'Jazak Allah for making this app. Huge respect for your hard work.... May Allah Almighty accepts your sadqa. E. Jaria.. Ameen.', 'Nice', 'please add in English too if possible', '💖', 'Very nice experience, one suggestion Open last read is missing in new interface please reinstate it.', \"Aoa thanks for updating this beautiful application but please don't skip the urdu translation mode it was very easy to read Quran with continuously attention. We demand it again jazakallah\", \"This update app is not good before there was option to find last read page but now nothing can't carry on reading\", 'this app is amazing for reciting quran and learning tafseer and tarjuma. but plz add voice reciting option then it would be superb.😊 but it is very very good app. i give 5 stars to you.', 'Jazak allah kharan kaseran']\n"
          ]
        }
      ]
    },
    {
      "cell_type": "code",
      "source": [
        "!pip install openai"
      ],
      "metadata": {
        "colab": {
          "base_uri": "https://localhost:8080/"
        },
        "id": "YoHsSUGxZZeH",
        "outputId": "be4420c9-3fab-4c73-eab5-c3e4b3855fad"
      },
      "execution_count": null,
      "outputs": [
        {
          "output_type": "stream",
          "name": "stdout",
          "text": [
            "Looking in indexes: https://pypi.org/simple, https://us-python.pkg.dev/colab-wheels/public/simple/\n",
            "Collecting openai\n",
            "  Downloading openai-0.27.6-py3-none-any.whl (71 kB)\n",
            "\u001b[2K     \u001b[90m━━━━━━━━━━━━━━━━━━━━━━━━━━━━━━━━━━━━━━━━\u001b[0m \u001b[32m71.9/71.9 kB\u001b[0m \u001b[31m6.0 MB/s\u001b[0m eta \u001b[36m0:00:00\u001b[0m\n",
            "\u001b[?25hRequirement already satisfied: requests>=2.20 in /usr/local/lib/python3.10/dist-packages (from openai) (2.27.1)\n",
            "Requirement already satisfied: tqdm in /usr/local/lib/python3.10/dist-packages (from openai) (4.65.0)\n",
            "Collecting aiohttp (from openai)\n",
            "  Downloading aiohttp-3.8.4-cp310-cp310-manylinux_2_17_x86_64.manylinux2014_x86_64.whl (1.0 MB)\n",
            "\u001b[2K     \u001b[90m━━━━━━━━━━━━━━━━━━━━━━━━━━━━━━━━━━━━━━━━\u001b[0m \u001b[32m1.0/1.0 MB\u001b[0m \u001b[31m45.7 MB/s\u001b[0m eta \u001b[36m0:00:00\u001b[0m\n",
            "\u001b[?25hRequirement already satisfied: urllib3<1.27,>=1.21.1 in /usr/local/lib/python3.10/dist-packages (from requests>=2.20->openai) (1.26.15)\n",
            "Requirement already satisfied: certifi>=2017.4.17 in /usr/local/lib/python3.10/dist-packages (from requests>=2.20->openai) (2022.12.7)\n",
            "Requirement already satisfied: charset-normalizer~=2.0.0 in /usr/local/lib/python3.10/dist-packages (from requests>=2.20->openai) (2.0.12)\n",
            "Requirement already satisfied: idna<4,>=2.5 in /usr/local/lib/python3.10/dist-packages (from requests>=2.20->openai) (3.4)\n",
            "Requirement already satisfied: attrs>=17.3.0 in /usr/local/lib/python3.10/dist-packages (from aiohttp->openai) (23.1.0)\n",
            "Collecting multidict<7.0,>=4.5 (from aiohttp->openai)\n",
            "  Downloading multidict-6.0.4-cp310-cp310-manylinux_2_17_x86_64.manylinux2014_x86_64.whl (114 kB)\n",
            "\u001b[2K     \u001b[90m━━━━━━━━━━━━━━━━━━━━━━━━━━━━━━━━━━━━━━\u001b[0m \u001b[32m114.5/114.5 kB\u001b[0m \u001b[31m14.9 MB/s\u001b[0m eta \u001b[36m0:00:00\u001b[0m\n",
            "\u001b[?25hCollecting async-timeout<5.0,>=4.0.0a3 (from aiohttp->openai)\n",
            "  Downloading async_timeout-4.0.2-py3-none-any.whl (5.8 kB)\n",
            "Collecting yarl<2.0,>=1.0 (from aiohttp->openai)\n",
            "  Downloading yarl-1.9.2-cp310-cp310-manylinux_2_17_x86_64.manylinux2014_x86_64.whl (268 kB)\n",
            "\u001b[2K     \u001b[90m━━━━━━━━━━━━━━━━━━━━━━━━━━━━━━━━━━━━━━\u001b[0m \u001b[32m268.8/268.8 kB\u001b[0m \u001b[31m28.0 MB/s\u001b[0m eta \u001b[36m0:00:00\u001b[0m\n",
            "\u001b[?25hCollecting frozenlist>=1.1.1 (from aiohttp->openai)\n",
            "  Downloading frozenlist-1.3.3-cp310-cp310-manylinux_2_5_x86_64.manylinux1_x86_64.manylinux_2_17_x86_64.manylinux2014_x86_64.whl (149 kB)\n",
            "\u001b[2K     \u001b[90m━━━━━━━━━━━━━━━━━━━━━━━━━━━━━━━━━━━━━━\u001b[0m \u001b[32m149.6/149.6 kB\u001b[0m \u001b[31m18.7 MB/s\u001b[0m eta \u001b[36m0:00:00\u001b[0m\n",
            "\u001b[?25hCollecting aiosignal>=1.1.2 (from aiohttp->openai)\n",
            "  Downloading aiosignal-1.3.1-py3-none-any.whl (7.6 kB)\n",
            "Installing collected packages: multidict, frozenlist, async-timeout, yarl, aiosignal, aiohttp, openai\n",
            "Successfully installed aiohttp-3.8.4 aiosignal-1.3.1 async-timeout-4.0.2 frozenlist-1.3.3 multidict-6.0.4 openai-0.27.6 yarl-1.9.2\n"
          ]
        }
      ]
    },
    {
      "cell_type": "code",
      "source": [
        "!pip install spacy"
      ],
      "metadata": {
        "id": "F1Kv9prPZe55",
        "colab": {
          "base_uri": "https://localhost:8080/"
        },
        "outputId": "76c57271-db11-4379-e569-49d468b4530c"
      },
      "execution_count": 1,
      "outputs": [
        {
          "output_type": "stream",
          "name": "stdout",
          "text": [
            "Looking in indexes: https://pypi.org/simple, https://us-python.pkg.dev/colab-wheels/public/simple/\n",
            "Requirement already satisfied: spacy in /usr/local/lib/python3.10/dist-packages (3.5.2)\n",
            "Requirement already satisfied: spacy-legacy<3.1.0,>=3.0.11 in /usr/local/lib/python3.10/dist-packages (from spacy) (3.0.12)\n",
            "Requirement already satisfied: spacy-loggers<2.0.0,>=1.0.0 in /usr/local/lib/python3.10/dist-packages (from spacy) (1.0.4)\n",
            "Requirement already satisfied: murmurhash<1.1.0,>=0.28.0 in /usr/local/lib/python3.10/dist-packages (from spacy) (1.0.9)\n",
            "Requirement already satisfied: cymem<2.1.0,>=2.0.2 in /usr/local/lib/python3.10/dist-packages (from spacy) (2.0.7)\n",
            "Requirement already satisfied: preshed<3.1.0,>=3.0.2 in /usr/local/lib/python3.10/dist-packages (from spacy) (3.0.8)\n",
            "Requirement already satisfied: thinc<8.2.0,>=8.1.8 in /usr/local/lib/python3.10/dist-packages (from spacy) (8.1.9)\n",
            "Requirement already satisfied: wasabi<1.2.0,>=0.9.1 in /usr/local/lib/python3.10/dist-packages (from spacy) (1.1.1)\n",
            "Requirement already satisfied: srsly<3.0.0,>=2.4.3 in /usr/local/lib/python3.10/dist-packages (from spacy) (2.4.6)\n",
            "Requirement already satisfied: catalogue<2.1.0,>=2.0.6 in /usr/local/lib/python3.10/dist-packages (from spacy) (2.0.8)\n",
            "Requirement already satisfied: typer<0.8.0,>=0.3.0 in /usr/local/lib/python3.10/dist-packages (from spacy) (0.7.0)\n",
            "Requirement already satisfied: pathy>=0.10.0 in /usr/local/lib/python3.10/dist-packages (from spacy) (0.10.1)\n",
            "Requirement already satisfied: smart-open<7.0.0,>=5.2.1 in /usr/local/lib/python3.10/dist-packages (from spacy) (6.3.0)\n",
            "Requirement already satisfied: tqdm<5.0.0,>=4.38.0 in /usr/local/lib/python3.10/dist-packages (from spacy) (4.65.0)\n",
            "Requirement already satisfied: numpy>=1.15.0 in /usr/local/lib/python3.10/dist-packages (from spacy) (1.22.4)\n",
            "Requirement already satisfied: requests<3.0.0,>=2.13.0 in /usr/local/lib/python3.10/dist-packages (from spacy) (2.27.1)\n",
            "Requirement already satisfied: pydantic!=1.8,!=1.8.1,<1.11.0,>=1.7.4 in /usr/local/lib/python3.10/dist-packages (from spacy) (1.10.7)\n",
            "Requirement already satisfied: jinja2 in /usr/local/lib/python3.10/dist-packages (from spacy) (3.1.2)\n",
            "Requirement already satisfied: setuptools in /usr/local/lib/python3.10/dist-packages (from spacy) (67.7.2)\n",
            "Requirement already satisfied: packaging>=20.0 in /usr/local/lib/python3.10/dist-packages (from spacy) (23.1)\n",
            "Requirement already satisfied: langcodes<4.0.0,>=3.2.0 in /usr/local/lib/python3.10/dist-packages (from spacy) (3.3.0)\n",
            "Requirement already satisfied: typing-extensions>=4.2.0 in /usr/local/lib/python3.10/dist-packages (from pydantic!=1.8,!=1.8.1,<1.11.0,>=1.7.4->spacy) (4.5.0)\n",
            "Requirement already satisfied: urllib3<1.27,>=1.21.1 in /usr/local/lib/python3.10/dist-packages (from requests<3.0.0,>=2.13.0->spacy) (1.26.15)\n",
            "Requirement already satisfied: certifi>=2017.4.17 in /usr/local/lib/python3.10/dist-packages (from requests<3.0.0,>=2.13.0->spacy) (2022.12.7)\n",
            "Requirement already satisfied: charset-normalizer~=2.0.0 in /usr/local/lib/python3.10/dist-packages (from requests<3.0.0,>=2.13.0->spacy) (2.0.12)\n",
            "Requirement already satisfied: idna<4,>=2.5 in /usr/local/lib/python3.10/dist-packages (from requests<3.0.0,>=2.13.0->spacy) (3.4)\n",
            "Requirement already satisfied: blis<0.8.0,>=0.7.8 in /usr/local/lib/python3.10/dist-packages (from thinc<8.2.0,>=8.1.8->spacy) (0.7.9)\n",
            "Requirement already satisfied: confection<1.0.0,>=0.0.1 in /usr/local/lib/python3.10/dist-packages (from thinc<8.2.0,>=8.1.8->spacy) (0.0.4)\n",
            "Requirement already satisfied: click<9.0.0,>=7.1.1 in /usr/local/lib/python3.10/dist-packages (from typer<0.8.0,>=0.3.0->spacy) (8.1.3)\n",
            "Requirement already satisfied: MarkupSafe>=2.0 in /usr/local/lib/python3.10/dist-packages (from jinja2->spacy) (2.1.2)\n"
          ]
        }
      ]
    },
    {
      "cell_type": "code",
      "source": [
        "import spacy\n",
        "from collections import Counter\n",
        "from string import punctuation\n",
        "nlp = spacy.load(\"en_core_web_sm\")\n",
        "def get_hotwords(text):\n",
        "    result = []\n",
        "    pos_tag = ['PROPN', 'ADJ', 'NOUN'] \n",
        "    doc = nlp(text.lower()) \n",
        "    for token in doc:\n",
        "        if(token.text in nlp.Defaults.stop_words or token.text in punctuation):\n",
        "            continue\n",
        "        if(token.pos_ in pos_tag):\n",
        "            result.append(token.text)\n",
        "    return result\n",
        "#new_text = \"\"\"\n",
        "#I've never been disappointed with my orders\n",
        "#\"\"\"\n",
        "new_text = \"\"\"\n",
        "When it comes to evaluating the performance of keyword extractors, you can use some of the standard metrics in machine learning: accuracy, precision, recall, and F1 score. However, these metrics don’t reflect partial matches. they only consider the perfect match between an extracted segment and the correct prediction for that tag.\n",
        "Fortunately, there are some other metrics capable of capturing partial matches. An example of this is ROUGE.\n",
        "\"\"\"\n",
        "output = set(get_hotwords(new_text))\n",
        "most_common_list = Counter(output).most_common(10)\n",
        "for item in most_common_list:\n",
        "  print(item[0])"
      ],
      "metadata": {
        "colab": {
          "base_uri": "https://localhost:8080/"
        },
        "id": "lcDZqE4pTV34",
        "outputId": "11b656c6-f358-40ab-ca53-5820e9e4960b"
      },
      "execution_count": 4,
      "outputs": [
        {
          "output_type": "stream",
          "name": "stdout",
          "text": [
            "extractors\n",
            "example\n",
            "recall\n",
            "segment\n",
            "tag\n",
            "correct\n",
            "performance\n",
            "precision\n",
            "capable\n",
            "f1\n"
          ]
        }
      ]
    },
    {
      "cell_type": "code",
      "source": [],
      "metadata": {
        "id": "V5sNTYNVUXhi"
      },
      "execution_count": null,
      "outputs": []
    }
  ]
}